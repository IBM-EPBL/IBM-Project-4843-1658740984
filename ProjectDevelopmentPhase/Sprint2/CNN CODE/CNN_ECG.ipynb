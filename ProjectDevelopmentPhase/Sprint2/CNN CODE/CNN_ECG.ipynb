{
 "cells": [
  {
   "cell_type": "code",
   "execution_count": 1,
   "id": "8ca4f34d",
   "metadata": {},
   "outputs": [
    {
     "name": "stdout",
     "output_type": "stream",
     "text": [
      " Volume in drive C is Windows\n",
      " Volume Serial Number is 5899-E89E\n",
      "\n",
      " Directory of C:\\Users\\LIKITHA S\n",
      "\n",
      "11-11-2022  17:52    <DIR>          .\n",
      "11-11-2022  17:52    <DIR>          ..\n",
      "20-11-2021  11:56    <DIR>          .android\n",
      "05-06-2022  17:50    <DIR>          .argouml\n",
      "29-09-2021  22:20    <DIR>          .atom\n",
      "07-12-2021  08:52             3,224 .bash_history\n",
      "27-05-2022  11:52    <DIR>          .conda\n",
      "06-05-2022  13:11                25 .condarc\n",
      "06-05-2022  13:11    <DIR>          .continuum\n",
      "10-09-2022  12:40               215 .gitconfig\n",
      "05-08-2021  12:52    <DIR>          .gradle\n",
      "14-01-2021  19:09    <DIR>          .idlerc\n",
      "03-11-2022  12:15    <DIR>          .ipynb_checkpoints\n",
      "06-05-2022  13:13    <DIR>          .ipython\n",
      "17-05-2022  08:16    <DIR>          .jupyter\n",
      "11-11-2022  15:49    <DIR>          .keras\n",
      "07-12-2021  14:18    <DIR>          .m2\n",
      "06-05-2022  13:13    <DIR>          .matplotlib\n",
      "18-07-2022  13:08    <DIR>          .ms-ad\n",
      "07-12-2021  13:28    <DIR>          .nbi\n",
      "30-05-2021  13:03    <DIR>          .vscode\n",
      "03-10-2020  11:19    <DIR>          3D Objects\n",
      "20-02-2021  10:20                 0 aa\n",
      "09-05-2021  12:07    <DIR>          access2019\n",
      "06-05-2022  13:08    <DIR>          anaconda3\n",
      "05-08-2021  14:08    <DIR>          AndroidStudioProjects\n",
      "03-10-2020  11:19    <DIR>          Contacts\n",
      "20-02-2021  10:22    <DIR>          d1\n",
      "20-02-2021  10:22    <DIR>          d2\n",
      "07-11-2022  23:20    <DIR>          Desktop\n",
      "05-11-2022  17:46    <DIR>          Documents\n",
      "11-11-2022  15:11    <DIR>          Downloads\n",
      "03-10-2020  11:19    <DIR>          Favorites\n",
      "20-08-2022  09:08    <DIR>          IBA_IOAPDATA\n",
      "03-10-2020  11:19    <DIR>          Links\n",
      "20-05-2021  11:19    <DIR>          logs\n",
      "03-10-2020  11:19    <DIR>          Music\n",
      "11-11-2022  15:09    <DIR>          OneDrive\n",
      "31-05-2022  18:10    <DIR>          Pictures\n",
      "14-01-2021  19:29    <DIR>          PyCharm Community Edition 2020.2\n",
      "06-11-2022  12:19    <DIR>          PycharmProjects\n",
      "03-10-2020  11:19    <DIR>          Saved Games\n",
      "03-10-2020  11:20    <DIR>          Searches\n",
      "03-11-2022  12:29    <DIR>          SI-GuidedProject-78335-1656736746-main\n",
      "03-11-2022  13:08             1,462 Untitled.ipynb\n",
      "11-11-2022  17:52            35,488 Untitled1.ipynb\n",
      "03-11-2022  12:15                72 Untitled2.ipynb\n",
      "04-05-2022  18:53    <DIR>          Videos\n",
      "07-09-2021  14:07           569,344 WinDump.exe\n",
      "07-09-2021  14:06           915,128 WinPcap_4_1_3.exe\n",
      "               9 File(s)      1,524,958 bytes\n",
      "              41 Dir(s)  328,457,396,224 bytes free\n"
     ]
    }
   ],
   "source": [
    "ls"
   ]
  },
  {
   "cell_type": "code",
   "execution_count": 1,
   "id": "86a46007",
   "metadata": {},
   "outputs": [
    {
     "data": {
      "text/plain": [
       "'C:\\\\Users\\\\LIKITHA S'"
      ]
     },
     "execution_count": 1,
     "metadata": {},
     "output_type": "execute_result"
    }
   ],
   "source": [
    "%pwd\n"
   ]
  },
  {
   "cell_type": "code",
   "execution_count": 2,
   "id": "b6accf50",
   "metadata": {},
   "outputs": [
    {
     "name": "stdout",
     "output_type": "stream",
     "text": [
      "C:\\Users\\LIKITHA S\\Downloads\\ibm\n"
     ]
    }
   ],
   "source": [
    "%cd \"C:\\Users\\LIKITHA S\\Downloads\\ibm\""
   ]
  },
  {
   "cell_type": "code",
   "execution_count": 3,
   "id": "90967e2d",
   "metadata": {},
   "outputs": [],
   "source": [
    "import zipfile\n",
    "with zipfile.ZipFile(\"data.zip\",\"r\") as zip_ref:\n",
    "    zip_ref.extractall(\"data\")"
   ]
  },
  {
   "cell_type": "code",
   "execution_count": 4,
   "id": "1decd967",
   "metadata": {},
   "outputs": [],
   "source": [
    "#IMAGE PREPROCESSING"
   ]
  },
  {
   "cell_type": "code",
   "execution_count": 5,
   "id": "105d8b62",
   "metadata": {},
   "outputs": [
    {
     "name": "stdout",
     "output_type": "stream",
     "text": [
      "Requirement already satisfied: tensorflow in c:\\users\\likitha s\\appdata\\local\\programs\\python\\python39\\lib\\site-packages (2.10.0)\n",
      "Requirement already satisfied: wrapt>=1.11.0 in c:\\users\\likitha s\\appdata\\local\\programs\\python\\python39\\lib\\site-packages (from tensorflow) (1.14.1)\n",
      "Requirement already satisfied: libclang>=13.0.0 in c:\\users\\likitha s\\appdata\\local\\programs\\python\\python39\\lib\\site-packages (from tensorflow) (14.0.6)\n",
      "Requirement already satisfied: flatbuffers>=2.0 in c:\\users\\likitha s\\appdata\\local\\programs\\python\\python39\\lib\\site-packages (from tensorflow) (22.10.26)\n",
      "Requirement already satisfied: opt-einsum>=2.3.2 in c:\\users\\likitha s\\appdata\\local\\programs\\python\\python39\\lib\\site-packages (from tensorflow) (3.3.0)\n",
      "Requirement already satisfied: astunparse>=1.6.0 in c:\\users\\likitha s\\appdata\\local\\programs\\python\\python39\\lib\\site-packages (from tensorflow) (1.6.3)\n",
      "Requirement already satisfied: tensorboard<2.11,>=2.10 in c:\\users\\likitha s\\appdata\\local\\programs\\python\\python39\\lib\\site-packages (from tensorflow) (2.10.1)\n",
      "Requirement already satisfied: numpy>=1.20 in c:\\users\\likitha s\\appdata\\local\\programs\\python\\python39\\lib\\site-packages (from tensorflow) (1.23.4)\n",
      "Requirement already satisfied: setuptools in c:\\users\\likitha s\\appdata\\local\\programs\\python\\python39\\lib\\site-packages (from tensorflow) (49.2.1)\n",
      "Requirement already satisfied: typing-extensions>=3.6.6 in c:\\users\\likitha s\\appdata\\local\\programs\\python\\python39\\lib\\site-packages (from tensorflow) (4.4.0)\n",
      "Requirement already satisfied: h5py>=2.9.0 in c:\\users\\likitha s\\appdata\\local\\programs\\python\\python39\\lib\\site-packages (from tensorflow) (3.7.0)\n",
      "Requirement already satisfied: six>=1.12.0 in c:\\users\\likitha s\\appdata\\local\\programs\\python\\python39\\lib\\site-packages (from tensorflow) (1.16.0)\n",
      "Requirement already satisfied: tensorflow-estimator<2.11,>=2.10.0 in c:\\users\\likitha s\\appdata\\local\\programs\\python\\python39\\lib\\site-packages (from tensorflow) (2.10.0)\n",
      "Requirement already satisfied: keras<2.11,>=2.10.0 in c:\\users\\likitha s\\appdata\\local\\programs\\python\\python39\\lib\\site-packages (from tensorflow) (2.10.0)\n",
      "Requirement already satisfied: grpcio<2.0,>=1.24.3 in c:\\users\\likitha s\\appdata\\local\\programs\\python\\python39\\lib\\site-packages (from tensorflow) (1.50.0)\n",
      "Requirement already satisfied: gast<=0.4.0,>=0.2.1 in c:\\users\\likitha s\\appdata\\local\\programs\\python\\python39\\lib\\site-packages (from tensorflow) (0.4.0)\n",
      "Requirement already satisfied: absl-py>=1.0.0 in c:\\users\\likitha s\\appdata\\local\\programs\\python\\python39\\lib\\site-packages (from tensorflow) (1.3.0)\n",
      "Requirement already satisfied: keras-preprocessing>=1.1.1 in c:\\users\\likitha s\\appdata\\local\\programs\\python\\python39\\lib\\site-packages (from tensorflow) (1.1.2)\n",
      "Requirement already satisfied: protobuf<3.20,>=3.9.2 in c:\\users\\likitha s\\appdata\\local\\programs\\python\\python39\\lib\\site-packages (from tensorflow) (3.19.6)\n",
      "Requirement already satisfied: google-pasta>=0.1.1 in c:\\users\\likitha s\\appdata\\local\\programs\\python\\python39\\lib\\site-packages (from tensorflow) (0.2.0)\n",
      "Requirement already satisfied: termcolor>=1.1.0 in c:\\users\\likitha s\\appdata\\local\\programs\\python\\python39\\lib\\site-packages (from tensorflow) (2.1.0)\n",
      "Requirement already satisfied: packaging in c:\\users\\likitha s\\appdata\\local\\programs\\python\\python39\\lib\\site-packages (from tensorflow) (21.3)\n",
      "Requirement already satisfied: tensorflow-io-gcs-filesystem>=0.23.1 in c:\\users\\likitha s\\appdata\\local\\programs\\python\\python39\\lib\\site-packages (from tensorflow) (0.27.0)\n",
      "Requirement already satisfied: wheel<1.0,>=0.23.0 in c:\\users\\likitha s\\appdata\\local\\programs\\python\\python39\\lib\\site-packages (from astunparse>=1.6.0->tensorflow) (0.38.4)\n",
      "Requirement already satisfied: google-auth-oauthlib<0.5,>=0.4.1 in c:\\users\\likitha s\\appdata\\local\\programs\\python\\python39\\lib\\site-packages (from tensorboard<2.11,>=2.10->tensorflow) (0.4.6)\n",
      "Requirement already satisfied: werkzeug>=1.0.1 in c:\\users\\likitha s\\appdata\\local\\programs\\python\\python39\\lib\\site-packages (from tensorboard<2.11,>=2.10->tensorflow) (2.2.2)\n",
      "Requirement already satisfied: tensorboard-plugin-wit>=1.6.0 in c:\\users\\likitha s\\appdata\\local\\programs\\python\\python39\\lib\\site-packages (from tensorboard<2.11,>=2.10->tensorflow) (1.8.1)\n",
      "Requirement already satisfied: markdown>=2.6.8 in c:\\users\\likitha s\\appdata\\local\\programs\\python\\python39\\lib\\site-packages (from tensorboard<2.11,>=2.10->tensorflow) (3.4.1)\n",
      "Requirement already satisfied: google-auth<3,>=1.6.3 in c:\\users\\likitha s\\appdata\\local\\programs\\python\\python39\\lib\\site-packages (from tensorboard<2.11,>=2.10->tensorflow) (2.14.1)\n",
      "Requirement already satisfied: requests<3,>=2.21.0 in c:\\users\\likitha s\\appdata\\local\\programs\\python\\python39\\lib\\site-packages (from tensorboard<2.11,>=2.10->tensorflow) (2.28.1)\n",
      "Requirement already satisfied: tensorboard-data-server<0.7.0,>=0.6.0 in c:\\users\\likitha s\\appdata\\local\\programs\\python\\python39\\lib\\site-packages (from tensorboard<2.11,>=2.10->tensorflow) (0.6.1)\n",
      "Requirement already satisfied: pyparsing!=3.0.5,>=2.0.2 in c:\\users\\likitha s\\appdata\\local\\programs\\python\\python39\\lib\\site-packages (from packaging->tensorflow) (3.0.9)\n",
      "Requirement already satisfied: cachetools<6.0,>=2.0.0 in c:\\users\\likitha s\\appdata\\local\\programs\\python\\python39\\lib\\site-packages (from google-auth<3,>=1.6.3->tensorboard<2.11,>=2.10->tensorflow) (5.2.0)\n",
      "Requirement already satisfied: pyasn1-modules>=0.2.1 in c:\\users\\likitha s\\appdata\\local\\programs\\python\\python39\\lib\\site-packages (from google-auth<3,>=1.6.3->tensorboard<2.11,>=2.10->tensorflow) (0.2.8)\n",
      "Requirement already satisfied: rsa<5,>=3.1.4 in c:\\users\\likitha s\\appdata\\local\\programs\\python\\python39\\lib\\site-packages (from google-auth<3,>=1.6.3->tensorboard<2.11,>=2.10->tensorflow) (4.9)\n",
      "Requirement already satisfied: requests-oauthlib>=0.7.0 in c:\\users\\likitha s\\appdata\\local\\programs\\python\\python39\\lib\\site-packages (from google-auth-oauthlib<0.5,>=0.4.1->tensorboard<2.11,>=2.10->tensorflow) (1.3.1)\n",
      "Requirement already satisfied: importlib-metadata>=4.4 in c:\\users\\likitha s\\appdata\\local\\programs\\python\\python39\\lib\\site-packages (from markdown>=2.6.8->tensorboard<2.11,>=2.10->tensorflow) (5.0.0)\n",
      "Requirement already satisfied: idna<4,>=2.5 in c:\\users\\likitha s\\appdata\\local\\programs\\python\\python39\\lib\\site-packages (from requests<3,>=2.21.0->tensorboard<2.11,>=2.10->tensorflow) (3.4)\n",
      "Requirement already satisfied: urllib3<1.27,>=1.21.1 in c:\\users\\likitha s\\appdata\\local\\programs\\python\\python39\\lib\\site-packages (from requests<3,>=2.21.0->tensorboard<2.11,>=2.10->tensorflow) (1.26.12)\n",
      "Requirement already satisfied: certifi>=2017.4.17 in c:\\users\\likitha s\\appdata\\local\\programs\\python\\python39\\lib\\site-packages (from requests<3,>=2.21.0->tensorboard<2.11,>=2.10->tensorflow) (2022.9.24)\n",
      "Requirement already satisfied: charset-normalizer<3,>=2 in c:\\users\\likitha s\\appdata\\local\\programs\\python\\python39\\lib\\site-packages (from requests<3,>=2.21.0->tensorboard<2.11,>=2.10->tensorflow) (2.1.1)\n",
      "Requirement already satisfied: MarkupSafe>=2.1.1 in c:\\users\\likitha s\\appdata\\local\\programs\\python\\python39\\lib\\site-packages (from werkzeug>=1.0.1->tensorboard<2.11,>=2.10->tensorflow) (2.1.1)\n",
      "Requirement already satisfied: zipp>=0.5 in c:\\users\\likitha s\\appdata\\local\\programs\\python\\python39\\lib\\site-packages (from importlib-metadata>=4.4->markdown>=2.6.8->tensorboard<2.11,>=2.10->tensorflow) (3.10.0)\n",
      "Requirement already satisfied: pyasn1<0.5.0,>=0.4.6 in c:\\users\\likitha s\\appdata\\local\\programs\\python\\python39\\lib\\site-packages (from pyasn1-modules>=0.2.1->google-auth<3,>=1.6.3->tensorboard<2.11,>=2.10->tensorflow) (0.4.8)\n",
      "Requirement already satisfied: oauthlib>=3.0.0 in c:\\users\\likitha s\\appdata\\local\\programs\\python\\python39\\lib\\site-packages (from requests-oauthlib>=0.7.0->google-auth-oauthlib<0.5,>=0.4.1->tensorboard<2.11,>=2.10->tensorflow) (3.2.2)\n",
      "Note: you may need to restart the kernel to use updated packages.\n"
     ]
    }
   ],
   "source": [
    "pip install tensorflow"
   ]
  },
  {
   "cell_type": "code",
   "execution_count": 6,
   "id": "374e4458",
   "metadata": {},
   "outputs": [],
   "source": [
    "import tensorflow as tf"
   ]
  },
  {
   "cell_type": "code",
   "execution_count": 7,
   "id": "2ac03c5e",
   "metadata": {},
   "outputs": [],
   "source": [
    "from tensorflow.keras.models import Sequential\n",
    "from tensorflow.keras.layers import Dense\n",
    "from tensorflow.keras.layers import Convolution2D\n",
    "from tensorflow.keras.layers import MaxPooling2D\n",
    "from tensorflow.keras.layers import Flatten"
   ]
  },
  {
   "cell_type": "code",
   "execution_count": 8,
   "id": "7b54a3e0",
   "metadata": {},
   "outputs": [],
   "source": [
    "from tensorflow.keras.preprocessing.image import ImageDataGenerator"
   ]
  },
  {
   "cell_type": "code",
   "execution_count": 9,
   "id": "9602c3f3",
   "metadata": {},
   "outputs": [],
   "source": [
    "train_datagen = ImageDataGenerator(rescale = 1./255,shear_range = 0.2,zoom_range = 0.2,horizontal_flip = True)\n",
    "test_datagen = ImageDataGenerator(rescale = 1./255)"
   ]
  },
  {
   "cell_type": "code",
   "execution_count": 10,
   "id": "fd8652eb",
   "metadata": {},
   "outputs": [
    {
     "name": "stdout",
     "output_type": "stream",
     "text": [
      "Found 15341 images belonging to 6 classes.\n",
      "Found 6825 images belonging to 6 classes.\n"
     ]
    }
   ],
   "source": [
    "x_train = train_datagen.flow_from_directory(\"C:/Users/LIKITHA S/Downloads/ibm/data/data/train\",target_size = (64,64),batch_size = 32,class_mode = \"categorical\")\n",
    "x_test = test_datagen.flow_from_directory(\"C:/Users/LIKITHA S/Downloads/ibm/data/data/test\",target_size = (64,64),batch_size = 32,class_mode = \"categorical\")"
   ]
  },
  {
   "cell_type": "code",
   "execution_count": 11,
   "id": "39274e1e",
   "metadata": {},
   "outputs": [
    {
     "data": {
      "text/plain": [
       "{'Left Bundle Branch Block': 0,\n",
       " 'Normal': 1,\n",
       " 'Premature Atrial Contraction': 2,\n",
       " 'Premature Ventricular Contractions': 3,\n",
       " 'Right Bundle Branch Block': 4,\n",
       " 'Ventricular Fibrillation': 5}"
      ]
     },
     "execution_count": 11,
     "metadata": {},
     "output_type": "execute_result"
    }
   ],
   "source": [
    "x_train.class_indices"
   ]
  },
  {
   "cell_type": "code",
   "execution_count": 12,
   "id": "136d662e",
   "metadata": {},
   "outputs": [],
   "source": [
    "#MODEL BUILDING"
   ]
  },
  {
   "cell_type": "code",
   "execution_count": 13,
   "id": "eb490c53",
   "metadata": {},
   "outputs": [],
   "source": [
    "model = Sequential()"
   ]
  },
  {
   "cell_type": "code",
   "execution_count": 14,
   "id": "e6fd977f",
   "metadata": {},
   "outputs": [],
   "source": [
    "model.add(Convolution2D(32,(3,3),input_shape = (64,64,3),activation = \"relu\"))"
   ]
  },
  {
   "cell_type": "code",
   "execution_count": 15,
   "id": "6f7b381a",
   "metadata": {},
   "outputs": [],
   "source": [
    "model.add(MaxPooling2D(pool_size = (2,2)))"
   ]
  },
  {
   "cell_type": "code",
   "execution_count": 16,
   "id": "b3b2865a",
   "metadata": {},
   "outputs": [],
   "source": [
    "model.add(Convolution2D(32,(3,3),activation='relu'))"
   ]
  },
  {
   "cell_type": "code",
   "execution_count": 17,
   "id": "dee6dbc6",
   "metadata": {},
   "outputs": [],
   "source": [
    "model.add(MaxPooling2D(pool_size=(2,2)))"
   ]
  },
  {
   "cell_type": "code",
   "execution_count": 18,
   "id": "4964e491",
   "metadata": {},
   "outputs": [],
   "source": [
    "model.add(Flatten()) # ANN Input..."
   ]
  },
  {
   "cell_type": "code",
   "execution_count": 19,
   "id": "b60699fd",
   "metadata": {},
   "outputs": [],
   "source": [
    "#Adding Dense Layers"
   ]
  },
  {
   "cell_type": "code",
   "execution_count": 20,
   "id": "113d8041",
   "metadata": {},
   "outputs": [],
   "source": [
    "model.add(Dense(units = 128,kernel_initializer = \"random_uniform\",activation = \"relu\"))"
   ]
  },
  {
   "cell_type": "code",
   "execution_count": 21,
   "id": "27c0eea0",
   "metadata": {},
   "outputs": [],
   "source": [
    "model.add(Dense(units = 128,kernel_initializer = \"random_uniform\",activation = \"relu\"))"
   ]
  },
  {
   "cell_type": "code",
   "execution_count": 22,
   "id": "e9e4bba8",
   "metadata": {},
   "outputs": [],
   "source": [
    "model.add(Dense(units = 128,kernel_initializer = \"random_uniform\",activation = \"relu\"))"
   ]
  },
  {
   "cell_type": "code",
   "execution_count": 23,
   "id": "14c10cf1",
   "metadata": {},
   "outputs": [],
   "source": [
    "model.add(Dense(units = 128,kernel_initializer = \"random_uniform\",activation = \"relu\"))"
   ]
  },
  {
   "cell_type": "code",
   "execution_count": 24,
   "id": "b1934df3",
   "metadata": {},
   "outputs": [],
   "source": [
    "model.add(Dense(units = 128,kernel_initializer = \"random_uniform\",activation = \"relu\"))"
   ]
  },
  {
   "cell_type": "code",
   "execution_count": 25,
   "id": "4b4b5490",
   "metadata": {},
   "outputs": [],
   "source": [
    "model.add(Dense(units = 6,kernel_initializer = \"random_uniform\",activation = \"softmax\"))"
   ]
  },
  {
   "cell_type": "code",
   "execution_count": 26,
   "id": "a12ada65",
   "metadata": {},
   "outputs": [
    {
     "name": "stdout",
     "output_type": "stream",
     "text": [
      "Model: \"sequential\"\n",
      "_________________________________________________________________\n",
      " Layer (type)                Output Shape              Param #   \n",
      "=================================================================\n",
      " conv2d (Conv2D)             (None, 62, 62, 32)        896       \n",
      "                                                                 \n",
      " max_pooling2d (MaxPooling2D  (None, 31, 31, 32)       0         \n",
      " )                                                               \n",
      "                                                                 \n",
      " conv2d_1 (Conv2D)           (None, 29, 29, 32)        9248      \n",
      "                                                                 \n",
      " max_pooling2d_1 (MaxPooling  (None, 14, 14, 32)       0         \n",
      " 2D)                                                             \n",
      "                                                                 \n",
      " flatten (Flatten)           (None, 6272)              0         \n",
      "                                                                 \n",
      " dense (Dense)               (None, 128)               802944    \n",
      "                                                                 \n",
      " dense_1 (Dense)             (None, 128)               16512     \n",
      "                                                                 \n",
      " dense_2 (Dense)             (None, 128)               16512     \n",
      "                                                                 \n",
      " dense_3 (Dense)             (None, 128)               16512     \n",
      "                                                                 \n",
      " dense_4 (Dense)             (None, 128)               16512     \n",
      "                                                                 \n",
      " dense_5 (Dense)             (None, 6)                 774       \n",
      "                                                                 \n",
      "=================================================================\n",
      "Total params: 879,910\n",
      "Trainable params: 879,910\n",
      "Non-trainable params: 0\n",
      "_________________________________________________________________\n"
     ]
    }
   ],
   "source": [
    "model.summary()"
   ]
  },
  {
   "cell_type": "code",
   "execution_count": 27,
   "id": "3d567f17",
   "metadata": {},
   "outputs": [],
   "source": [
    "model.compile(optimizer='adam',loss='categorical_crossentropy',metrics=['accuracy'])"
   ]
  },
  {
   "cell_type": "code",
   "execution_count": 28,
   "id": "329e0136",
   "metadata": {},
   "outputs": [
    {
     "name": "stdout",
     "output_type": "stream",
     "text": [
      "Requirement already satisfied: Pillow in c:\\users\\likitha s\\appdata\\local\\programs\\python\\python39\\lib\\site-packages (9.3.0)Note: you may need to restart the kernel to use updated packages.\n",
      "\n"
     ]
    }
   ],
   "source": [
    "pip install Pillow"
   ]
  },
  {
   "cell_type": "code",
   "execution_count": 29,
   "id": "003c2740",
   "metadata": {},
   "outputs": [
    {
     "name": "stdout",
     "output_type": "stream",
     "text": [
      "Name: Pillow\n",
      "Version: 9.3.0\n",
      "Summary: Python Imaging Library (Fork)\n",
      "Home-page: https://python-pillow.org\n",
      "Author: Alex Clark (PIL Fork Author)\n",
      "Author-email: aclark@python-pillow.org\n",
      "License: HPND\n",
      "Location: c:\\users\\likitha s\\appdata\\local\\programs\\python\\python39\\lib\\site-packages\n",
      "Requires: \n",
      "Required-by: \n"
     ]
    }
   ],
   "source": [
    "!pip show pillow"
   ]
  },
  {
   "cell_type": "code",
   "execution_count": 30,
   "id": "7361c0c4",
   "metadata": {},
   "outputs": [
    {
     "name": "stderr",
     "output_type": "stream",
     "text": [
      "C:\\Users\\LIKITHA S\\AppData\\Local\\Temp\\ipykernel_11640\\788911318.py:1: UserWarning: `Model.fit_generator` is deprecated and will be removed in a future version. Please use `Model.fit`, which supports generators.\n",
      "  model.fit_generator(generator=x_train,steps_per_epoch = len(x_train), epochs=9, validation_data=x_test,validation_steps = len(x_test))\n"
     ]
    },
    {
     "name": "stdout",
     "output_type": "stream",
     "text": [
      "Epoch 1/9\n",
      "480/480 [==============================] - 79s 162ms/step - loss: 1.4184 - accuracy: 0.4806 - val_loss: 1.3712 - val_accuracy: 0.3927\n",
      "Epoch 2/9\n",
      "480/480 [==============================] - 78s 161ms/step - loss: 0.8580 - accuracy: 0.6512 - val_loss: 1.0339 - val_accuracy: 0.6878\n",
      "Epoch 3/9\n",
      "480/480 [==============================] - 97s 203ms/step - loss: 0.3734 - accuracy: 0.8744 - val_loss: 0.6565 - val_accuracy: 0.8435\n",
      "Epoch 4/9\n",
      "480/480 [==============================] - 79s 165ms/step - loss: 0.2111 - accuracy: 0.9365 - val_loss: 0.6561 - val_accuracy: 0.8234\n",
      "Epoch 5/9\n",
      "480/480 [==============================] - 79s 164ms/step - loss: 0.1515 - accuracy: 0.9540 - val_loss: 0.7763 - val_accuracy: 0.8450\n",
      "Epoch 6/9\n",
      "480/480 [==============================] - 82s 170ms/step - loss: 0.1204 - accuracy: 0.9633 - val_loss: 0.5966 - val_accuracy: 0.8399\n",
      "Epoch 7/9\n",
      "480/480 [==============================] - 67s 139ms/step - loss: 0.1045 - accuracy: 0.9669 - val_loss: 0.7272 - val_accuracy: 0.8440\n",
      "Epoch 8/9\n",
      "480/480 [==============================] - 66s 137ms/step - loss: 0.0920 - accuracy: 0.9701 - val_loss: 0.8299 - val_accuracy: 0.8557\n",
      "Epoch 9/9\n",
      "480/480 [==============================] - 66s 136ms/step - loss: 0.0846 - accuracy: 0.9724 - val_loss: 0.6389 - val_accuracy: 0.8535\n"
     ]
    },
    {
     "data": {
      "text/plain": [
       "<keras.callbacks.History at 0x20b9cf49190>"
      ]
     },
     "execution_count": 30,
     "metadata": {},
     "output_type": "execute_result"
    }
   ],
   "source": [
    "model.fit_generator(generator=x_train,steps_per_epoch = len(x_train), epochs=9, validation_data=x_test,validation_steps = len(x_test))"
   ]
  },
  {
   "cell_type": "code",
   "execution_count": 31,
   "id": "3b33a95b",
   "metadata": {},
   "outputs": [],
   "source": [
    "#Saving Model.\n",
    "model.save('ECG.h5')"
   ]
  },
  {
   "cell_type": "code",
   "execution_count": 32,
   "id": "3acdc5f7",
   "metadata": {},
   "outputs": [],
   "source": [
    "from tensorflow.keras.models import load_model\n",
    "from tensorflow.keras.preprocessing import image"
   ]
  },
  {
   "cell_type": "code",
   "execution_count": 33,
   "id": "745507e3",
   "metadata": {},
   "outputs": [],
   "source": [
    "model=load_model('ECG.h5')"
   ]
  },
  {
   "cell_type": "code",
   "execution_count": 34,
   "id": "3e240d0b",
   "metadata": {},
   "outputs": [],
   "source": [
    "img=image.load_img(\"C:/Users/LIKITHA S/Downloads/ibm/Unknown_image.png\",target_size=(64,64))"
   ]
  },
  {
   "cell_type": "code",
   "execution_count": 35,
   "id": "cbb8b92e",
   "metadata": {},
   "outputs": [],
   "source": [
    "x=image.img_to_array(img)"
   ]
  },
  {
   "cell_type": "code",
   "execution_count": 36,
   "id": "38160a25",
   "metadata": {},
   "outputs": [],
   "source": [
    "import numpy as np"
   ]
  },
  {
   "cell_type": "code",
   "execution_count": 37,
   "id": "06b3a30f",
   "metadata": {},
   "outputs": [],
   "source": [
    "x=np.expand_dims(x,axis=0)"
   ]
  },
  {
   "cell_type": "code",
   "execution_count": 38,
   "id": "69f53e9f",
   "metadata": {},
   "outputs": [
    {
     "name": "stdout",
     "output_type": "stream",
     "text": [
      "1/1 [==============================] - 1s 582ms/step\n"
     ]
    },
    {
     "data": {
      "text/plain": [
       "1"
      ]
     },
     "execution_count": 38,
     "metadata": {},
     "output_type": "execute_result"
    }
   ],
   "source": [
    "pred = model.predict(x)\n",
    "y_pred=np.argmax(pred)\n",
    "y_pred"
   ]
  },
  {
   "cell_type": "code",
   "execution_count": 39,
   "id": "d2e367ac",
   "metadata": {},
   "outputs": [
    {
     "data": {
      "text/plain": [
       "'Normal'"
      ]
     },
     "execution_count": 39,
     "metadata": {},
     "output_type": "execute_result"
    }
   ],
   "source": [
    "index=['left Bundle Branch block',\n",
    "       'Normal',\n",
    "       'Premature Atrial Contraction',\n",
    "       'Premature Ventricular Contraction',\n",
    "       'Right Bundle Branch Block',\n",
    "       'Ventricular Fibrillation']\n",
    "result = str(index[y_pred])\n",
    "result"
   ]
  },
  {
   "cell_type": "code",
   "execution_count": null,
   "id": "7c981104",
   "metadata": {},
   "outputs": [],
   "source": []
  }
 ],
 "metadata": {
  "kernelspec": {
   "display_name": "Python 3 (ipykernel)",
   "language": "python",
   "name": "python3"
  },
  "language_info": {
   "codemirror_mode": {
    "name": "ipython",
    "version": 3
   },
   "file_extension": ".py",
   "mimetype": "text/x-python",
   "name": "python",
   "nbconvert_exporter": "python",
   "pygments_lexer": "ipython3",
   "version": "3.9.1"
  }
 },
 "nbformat": 4,
 "nbformat_minor": 5
}
